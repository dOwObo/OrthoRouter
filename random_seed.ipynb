{
 "cells": [
  {
   "cell_type": "code",
   "execution_count": 2,
   "metadata": {},
   "outputs": [
    {
     "name": "stdout",
     "output_type": "stream",
     "text": [
      "隨機整數[438, 689, 744, 329, 251]\n"
     ]
    }
   ],
   "source": [
    "import random\n",
    "numbers = random.sample(range(1001),5)\n",
    "print(f\"隨機整數{numbers}\")"
   ]
  }
 ],
 "metadata": {
  "kernelspec": {
   "display_name": "olora",
   "language": "python",
   "name": "python3"
  },
  "language_info": {
   "codemirror_mode": {
    "name": "ipython",
    "version": 3
   },
   "file_extension": ".py",
   "mimetype": "text/x-python",
   "name": "python",
   "nbconvert_exporter": "python",
   "pygments_lexer": "ipython3",
   "version": "3.10.14"
  }
 },
 "nbformat": 4,
 "nbformat_minor": 2
}
